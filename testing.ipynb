<class 'geopandas.geodataframe.GeoDataFrame'>
RangeIndex: 14356 entries, 0 to 14355
Data columns (total 30 columns):
 #   Column                    Non-Null Count  Dtype   
---  ------                    --------------  -----   
 0   id                        14356 non-null  object  
 1   pid                       14356 non-null  object  
 2   areas                     14356 non-null  object  
 3   url                       14356 non-null  object  
 4   name                      14356 non-null  object  
 5   unit-name                 14356 non-null  object  
 6   noneng-name               14356 non-null  object  
 7   owner                     14356 non-null  object  
 8   parent                    14356 non-null  object  
 9   capacity                  14356 non-null  object  
 10  status                    14356 non-null  object  
 11  start-year                14356 non-null  object  
 12  retired-year              14356 non-null  object  
 13  subnat                    14356 non-null  object  
 14  region                    14356 non-null  object  
 15  Latitude                  14356 non-null  object  
 16  Longitude                 14356 non-null  object  
 17  tracker-custom            14356 non-null  object  
 18  tracker-acro              14356 non-null  object  
 19  scaling-capacity          14356 non-null  float64 
 20  capacity-table            14356 non-null  float64 
 21  units-of-m                14356 non-null  object  
 22  status-legend             14356 non-null  object  
 23  areas-subnat-sat-display  14356 non-null  object  
 24  name-search               14356 non-null  object  
 25  owner-search              14356 non-null  object  
 26  parent-search             14356 non-null  object  
 27  capacity-details          14356 non-null  float64 
 28  tracker-display           14356 non-null  object  
 29  geometry                  14356 non-null  geometry
dtypes: float64(3), geometry(1), object(26)
memory usage: 3.3+ MB
None
id:

too unique
pid:

too unique
areas:

too unique
url:

too unique
name:

too unique
unit-name:

too unique
noneng-name:

too unique
owner:

too unique
parent:

too unique
capacity:

too unique
status:

{'shelved', 'permitted', 'mothballed', 'construction', 'cancelled', 'announced', 'operating', 'retired', 'pre-permit'}
start-year:

too unique
retired-year:

{'', '2009', '2016', '2021', '2017', '2004', '2014', '2015', '2013', '2012', '2005', '2006', '2007', '2019', '2024', '2023', '2011', '2008', '2025', '2020', '2022', '2003', '2002', '2010', '2001', '2000', '2018'}
subnat:

too unique
region:

{'Asia', 'Oceania', 'Africa', 'Americas', 'Europe'}
Latitude:

too unique
Longitude:

too unique
tracker-custom:

{'GCPT'}
tracker-acro:

{'GCPT'}
scaling-capacity:

too unique
capacity-table:

too unique
units-of-m:

{'MW'}
status-legend:

{'mothballed-plus', 'shelved', 'pre-construction-plus', 'cancelled', 'operating', 'retired-plus', 'construction-plus', 'proposed-plus'}
areas-subnat-sat-display:

too unique
name-search:

too unique
owner-search:

too unique
parent-search:

too unique
capacity-details:

too unique
tracker-display:

{'coal power station'}
geometry:

too unique
