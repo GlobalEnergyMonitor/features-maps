{
 "cells": [
  {
   "cell_type": "code",
   "execution_count": 2,
   "id": "c7e942a3",
   "metadata": {},
   "outputs": [],
   "source": [
    "import pandas as pd\n",
    "import geopandas as gpd\n",
    "import numpy as np\n",
    "import time\n",
    "import subprocess\n",
    "from shapely.geometry import MultiPolygon\n",
    "import pickle\n",
    "# from all_config import *\n",
    "import os\n",
    "# import gem_tracker_maps.trackers.save_file_to_s3 as save_file_to_s3\n",
    "import save_file_to_s3"
   ]
  },
  {
   "cell_type": "code",
   "execution_count": 5,
   "id": "468c8f65",
   "metadata": {},
   "outputs": [
    {
     "name": "stdout",
     "output_type": "stream",
     "text": [
      "<class 'geopandas.geodataframe.GeoDataFrame'>\n",
      "RangeIndex: 5663 entries, 0 to 5662\n",
      "Data columns (total 30 columns):\n",
      " #   Column                    Non-Null Count  Dtype   \n",
      "---  ------                    --------------  -----   \n",
      " 0   areas                     5663 non-null   object  \n",
      " 1   area2                     5663 non-null   object  \n",
      " 2   name                      5663 non-null   object  \n",
      " 3   capacity                  5663 non-null   object  \n",
      " 4   capacity2                 5663 non-null   float64 \n",
      " 5   status                    5663 non-null   object  \n",
      " 6   start-year                5663 non-null   object  \n",
      " 7   owner                     5663 non-null   object  \n",
      " 8   river                     5663 non-null   object  \n",
      " 9   Latitude                  5663 non-null   float64 \n",
      " 10  Longitude                 5663 non-null   float64 \n",
      " 11  subnat                    5663 non-null   object  \n",
      " 12  region                    5663 non-null   object  \n",
      " 13  subnat2                   5663 non-null   object  \n",
      " 14  region2                   5663 non-null   object  \n",
      " 15  pid                       5663 non-null   object  \n",
      " 16  id                        5663 non-null   object  \n",
      " 17  url                       5663 non-null   object  \n",
      " 18  tracker-custom            5663 non-null   object  \n",
      " 19  tracker-acro              5663 non-null   object  \n",
      " 20  scaling-capacity          5663 non-null   float64 \n",
      " 21  capacity-table            5663 non-null   float64 \n",
      " 22  units-of-m                5663 non-null   object  \n",
      " 23  status-legend             5663 non-null   object  \n",
      " 24  areas-subnat-sat-display  5663 non-null   object  \n",
      " 25  name-search               5663 non-null   object  \n",
      " 26  owner-search              5663 non-null   object  \n",
      " 27  capacity-details          5663 non-null   float64 \n",
      " 28  tracker-display           5663 non-null   object  \n",
      " 29  geometry                  5663 non-null   geometry\n",
      "dtypes: float64(6), geometry(1), object(23)\n",
      "memory usage: 1.3+ MB\n",
      "None\n",
      "areas\n",
      "area2\n",
      "name\n",
      "capacity\n",
      "capacity2\n",
      "status\n",
      "start-year\n",
      "owner\n",
      "river\n",
      "Latitude\n",
      "Longitude\n",
      "subnat\n",
      "region\n",
      "subnat2\n",
      "region2\n",
      "pid\n",
      "id\n",
      "url\n",
      "tracker-custom\n",
      "tracker-acro\n",
      "scaling-capacity\n",
      "capacity-table\n",
      "units-of-m\n",
      "status-legend\n",
      "areas-subnat-sat-display\n",
      "name-search\n",
      "owner-search\n",
      "capacity-details\n",
      "tracker-display\n",
      "geometry\n"
     ]
    }
   ],
   "source": [
    "filetotest = '/Users/gem-tah/GEM_INFO/GEM_WORK/earthrise-maps/gem_tracker_maps/trackers/hydro/ghpt_2025-04-22.geojson'\n",
    "df = gpd.read_file(filetotest)\n",
    "print(df.info())\n",
    "for col in df.columns:\n",
    "    print(col)"
   ]
  },
  {
   "cell_type": "code",
   "execution_count": null,
   "id": "5c2e1787",
   "metadata": {},
   "outputs": [],
   "source": []
  },
  {
   "cell_type": "markdown",
   "id": "28b64006",
   "metadata": {},
   "source": [
    "Moving all the tests into here to run automatically after file creation"
   ]
  },
  {
   "cell_type": "code",
   "execution_count": null,
   "id": "66798597",
   "metadata": {},
   "outputs": [],
   "source": [
    "# Set up source file retrieval to test against\n",
    "# will need to filter by fuel and geo\n"
   ]
  },
  {
   "cell_type": "code",
   "execution_count": null,
   "id": "7f4041aa",
   "metadata": {},
   "outputs": [],
   "source": [
    "# Set up final file retireval to test with\n"
   ]
  },
  {
   "cell_type": "code",
   "execution_count": null,
   "id": "280119d9",
   "metadata": {},
   "outputs": [],
   "source": [
    "# based on map tab in log sheet\n",
    "# loop through all stated trackers per map\n",
    "# make sure all trackers are present for the map\n",
    "# then make sure all countries are only in the stated geo\n",
    "# then check the fuel is only in the stated fuel\n",
    "# then test the topline size of that map tracker's data \n",
    "# when compared to the source file after geo and fuel filter applied\n",
    "#"
   ]
  },
  {
   "cell_type": "code",
   "execution_count": null,
   "id": "39e6c3ab",
   "metadata": {},
   "outputs": [],
   "source": [
    "def run_topline():\n",
    "    \n",
    "    return "
   ]
  },
  {
   "cell_type": "code",
   "execution_count": null,
   "id": "140a3006",
   "metadata": {},
   "outputs": [],
   "source": [
    "def test_years():\n",
    "    # TODO add check that year isn't a -1 ... goget.. for egt \n",
    "    # standardize unknown not found not stated etc\n",
    "    \n",
    "    return"
   ]
  },
  {
   "cell_type": "code",
   "execution_count": null,
   "id": "83e9b86d",
   "metadata": {},
   "outputs": [],
   "source": []
  }
 ],
 "metadata": {
  "kernelspec": {
   "display_name": "venv",
   "language": "python",
   "name": "python3"
  },
  "language_info": {
   "codemirror_mode": {
    "name": "ipython",
    "version": 3
   },
   "file_extension": ".py",
   "mimetype": "text/x-python",
   "name": "python",
   "nbconvert_exporter": "python",
   "pygments_lexer": "ipython3",
   "version": "3.9.6"
  }
 },
 "nbformat": 4,
 "nbformat_minor": 5
}
