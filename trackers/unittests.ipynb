{
 "cells": [
  {
   "cell_type": "code",
   "execution_count": null,
   "id": "c7e942a3",
   "metadata": {},
   "outputs": [],
   "source": [
    "import pandas as pd\n",
    "import geopandas as gpd\n",
    "import numpy as np\n",
    "import time\n",
    "import subprocess\n",
    "from shapely.geometry import MultiPolygon\n",
    "import pickle\n",
    "# from all_config import *\n",
    "import os\n",
    "# import gem_tracker_maps.trackers.save_file_to_s3 as save_file_to_s3\n",
    "import save_file_to_s3"
   ]
  },
  {
   "cell_type": "markdown",
   "id": "28b64006",
   "metadata": {},
   "source": [
    "Moving all the tests into here to run automatically after file creation"
   ]
  },
  {
   "cell_type": "code",
   "execution_count": null,
   "id": "66798597",
   "metadata": {},
   "outputs": [],
   "source": [
    "# Set up source file retrieval to test against\n",
    "# will need to filter by fuel and geo\n"
   ]
  },
  {
   "cell_type": "code",
   "execution_count": null,
   "id": "7f4041aa",
   "metadata": {},
   "outputs": [],
   "source": [
    "# Set up final file retireval to test with\n"
   ]
  },
  {
   "cell_type": "code",
   "execution_count": null,
   "id": "280119d9",
   "metadata": {},
   "outputs": [],
   "source": [
    "# based on map tab in log sheet\n",
    "# loop through all stated trackers per map\n",
    "# make sure all trackers are present for the map\n",
    "# then make sure all countries are only in the stated geo\n",
    "# then check the fuel is only in the stated fuel\n",
    "# then test the topline size of that map tracker's data \n",
    "# when compared to the source file after geo and fuel filter applied\n",
    "#"
   ]
  },
  {
   "cell_type": "code",
   "execution_count": null,
   "id": "39e6c3ab",
   "metadata": {},
   "outputs": [],
   "source": [
    "def run_topline():\n",
    "    \n",
    "    return "
   ]
  },
  {
   "cell_type": "code",
   "execution_count": null,
   "id": "140a3006",
   "metadata": {},
   "outputs": [],
   "source": [
    "def test_years():\n",
    "    # TODO add check that year isn't a -1 ... goget.. for egt \n",
    "    # standardize unknown not found not stated etc\n",
    "    \n",
    "    return"
   ]
  }
 ],
 "metadata": {
  "language_info": {
   "name": "python"
  }
 },
 "nbformat": 4,
 "nbformat_minor": 5
}
